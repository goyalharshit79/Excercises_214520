{
  "nbformat": 4,
  "nbformat_minor": 0,
  "metadata": {
    "colab": {
      "name": "Excercises_214520.ipynb",
      "provenance": [],
      "collapsed_sections": []
    },
    "kernelspec": {
      "name": "python3",
      "display_name": "Python 3"
    },
    "language_info": {
      "name": "python"
    }
  },
  "cells": [
    {
      "cell_type": "markdown",
      "source": [
        "Exercise 1: Rewrite your pay computation to give the employee 1.5 times the\n",
        "hourly rate for hours worked above 40 hours.\n"
      ],
      "metadata": {
        "id": "YVjGJbYHxR0E"
      }
    },
    {
      "cell_type": "code",
      "execution_count": null,
      "metadata": {
        "id": "gJLCtfwUg7qk",
        "colab": {
          "base_uri": "https://localhost:8080/"
        },
        "outputId": "64f6abf0-4a7a-4719-e0df-88eed430c90e"
      },
      "outputs": [
        {
          "output_type": "stream",
          "name": "stdout",
          "text": [
            "Enter Hours :45\n",
            "Enter Rate :10\n",
            "475.0\n"
          ]
        }
      ],
      "source": [
        "hours = float(input('Enter Hours :'))\n",
        "rate = float(input('Enter Rate :'))\n",
        "\n",
        "if (hours > 40) : \n",
        "  pay = (rate * 40) + ((hours - 40) * (1.5 * rate))\n",
        "else : \n",
        "  pay = rate * hours\n",
        "print(pay)"
      ]
    },
    {
      "cell_type": "markdown",
      "source": [
        "Exercise 2: Rewrite your pay program using try and except so that your\n",
        "program handles non-numeric input gracefully by printing a message and exiting\n",
        "the program. The following shows two executions of the program:"
      ],
      "metadata": {
        "id": "n-U8S3LwxQI8"
      }
    },
    {
      "cell_type": "code",
      "source": [
        "\n",
        "try:\n",
        "  hours = float(input('Enter Hours :'))\n",
        "  rate = float(input('Enter Rate :'))\n",
        "  if (hours > 40) : \n",
        "    pay = (rate * 40) + ((hours - 40) * (1.5 * rate))\n",
        "  else : \n",
        "    pay = rate * hours\n",
        "  print(pay)\n",
        "except: \n",
        "  print('Please Enter valid details')"
      ],
      "metadata": {
        "colab": {
          "base_uri": "https://localhost:8080/"
        },
        "id": "xPuadjwZxbBj",
        "outputId": "e335dd77-2de9-450f-acc3-f2236a14b654"
      },
      "execution_count": null,
      "outputs": [
        {
          "output_type": "stream",
          "name": "stdout",
          "text": [
            "Enter Hours :jj\n",
            "Please Enter valid details\n"
          ]
        }
      ]
    },
    {
      "cell_type": "markdown",
      "source": [
        "Exercise 3: Write a program to prompt for a score between 0.0 and 1.0. If the\n",
        "score is out of range, print an error message. If the score is between 0.0 and 1.0,\n",
        "print a grade using the following table:"
      ],
      "metadata": {
        "id": "bfsFilP2EvBm"
      }
    },
    {
      "cell_type": "code",
      "source": [
        "try: \n",
        "  score = float(input('Enter your score : '))\n",
        "  if score >= 0.9 and score <= 1.0 :\n",
        "      re('A')\n",
        "  elif score >= 0.8 and score < 0.9 :\n",
        "      print('B')\n",
        "  elif score >= 0.7 and score < 0.8 :\n",
        "      print('C')\n",
        "  elif score >= 0.6 and score < 0.7 :\n",
        "      print('D')\n",
        "  elif score < 0.6 and score >= 0 :\n",
        "      print('E')\n",
        "  elif score < 0 or score > 1.0 : \n",
        "      print('Please enter a valid score between 0 and 1')\n",
        "except:\n",
        "    print('Please enter a valid score between 0 and 1')"
      ],
      "metadata": {
        "colab": {
          "base_uri": "https://localhost:8080/"
        },
        "id": "djHRBsHdESEN",
        "outputId": "f84f5f12-1ebe-4639-bb8c-34bd7c6cfe12"
      },
      "execution_count": null,
      "outputs": [
        {
          "output_type": "stream",
          "name": "stdout",
          "text": [
            "Enter your score : 0.5\n",
            "E\n"
          ]
        }
      ]
    },
    {
      "cell_type": "markdown",
      "source": [
        "Exercise 6: Rewrite your pay computation with time-and-a-half for overtime and\n",
        "create a function called computepay which takes two parameters (hours and\n",
        "rate)."
      ],
      "metadata": {
        "id": "AOwrRSGeRcgD"
      }
    },
    {
      "cell_type": "code",
      "source": [
        "def computepay (hours,rate):\n",
        "  if (hours > 40) : \n",
        "    pay = (rate * 40) + ((hours - 40) * (1.5 * rate))\n",
        "  else : \n",
        "    pay = rate * hours\n",
        "  return(pay)\n",
        "\n",
        "hours = float(input('Enter Hours :'))\n",
        "rate = float(input('Enter Rate :'))\n",
        "\n",
        "pay = computepay(hours,rate)\n",
        "print(pay)"
      ],
      "metadata": {
        "colab": {
          "base_uri": "https://localhost:8080/"
        },
        "id": "NY3yL5t_iCMv",
        "outputId": "85754caa-c2e2-4596-8e3c-999e39bc8b1b"
      },
      "execution_count": null,
      "outputs": [
        {
          "output_type": "stream",
          "name": "stdout",
          "text": [
            "Enter Hours :45\n",
            "Enter Rate :10\n",
            "475.0\n"
          ]
        }
      ]
    },
    {
      "cell_type": "markdown",
      "source": [
        "Exercise 7: Rewrite the grade program from the previous chapter using a\n",
        "function called computegrade that takes a score as its parameter and returns a\n",
        "grade as a string"
      ],
      "metadata": {
        "id": "HWtkAHNEiXp1"
      }
    },
    {
      "cell_type": "code",
      "source": [
        "def computegrade (score):\n",
        "    if score >= 0.9 and score <= 1.0 :\n",
        "        return 'A'\n",
        "    elif score >= 0.8 and score < 0.9 :\n",
        "        return 'B'\n",
        "    elif score >= 0.7 and score < 0.8 :\n",
        "        return 'C'\n",
        "    elif score >= 0.6 and score < 0.7 :\n",
        "        return 'D'\n",
        "    elif score < 0.6 and score >= 0 :\n",
        "        return 'E'\n",
        "    elif score < 0 or score > 1.0 : \n",
        "        return 'Please enter a valid score between 0 and 1'\n",
        "         \n",
        "score = float(input('Enter your score : '))\n",
        "grade = computegrade(score)\n",
        "print(grade)"
      ],
      "metadata": {
        "colab": {
          "base_uri": "https://localhost:8080/"
        },
        "id": "LdJGb05librA",
        "outputId": "831491ae-7e51-498a-e6f1-c02eb5c627e1"
      },
      "execution_count": null,
      "outputs": [
        {
          "output_type": "stream",
          "name": "stdout",
          "text": [
            "Enter your score : 0.9\n",
            "A\n"
          ]
        }
      ]
    },
    {
      "cell_type": "markdown",
      "source": [
        "Dictionaries\n"
      ],
      "metadata": {
        "id": "71mEClKZkQx9"
      }
    },
    {
      "cell_type": "code",
      "source": [
        "from google.colab import drive\n",
        "drive.mount('/content/drive', force_remount=1)"
      ],
      "metadata": {
        "id": "_eMPMDxGyEWo"
      },
      "execution_count": null,
      "outputs": []
    },
    {
      "cell_type": "code",
      "source": [
        "data = input(\"Enter the name of the file you want to be processed\")"
      ],
      "metadata": {
        "id": "So1yaQwAzO7n"
      },
      "execution_count": null,
      "outputs": []
    },
    {
      "cell_type": "code",
      "source": [
        "email_data = open(data).read()"
      ],
      "metadata": {
        "id": "HKJZDVWAzO44"
      },
      "execution_count": null,
      "outputs": []
    },
    {
      "cell_type": "code",
      "source": [
        "days = dict()\n",
        "sender = dict()"
      ],
      "metadata": {
        "id": "BSnBAbZczO2Z"
      },
      "execution_count": null,
      "outputs": []
    },
    {
      "cell_type": "code",
      "source": [
        "words = email_data.split()\n",
        "\n",
        "i = 0\n",
        "length = len(words)\n",
        "\n",
        "while i < length:\n",
        "    if words[i] == \"From\":\n",
        "        days[words[i+2]] = days.get(words[i+2],0) + 1\n",
        "        sender[words[i+1]] = sender.get(words[i+1],0) + 1\n",
        "    i = i + 1\n",
        "\n",
        "print(days)\n",
        "print(sender)"
      ],
      "metadata": {
        "id": "GCa_mYp4zOy_"
      },
      "execution_count": null,
      "outputs": []
    },
    {
      "cell_type": "code",
      "source": [
        "#Taking the text file as a string \n",
        "my_data = open(\"words1.txt\").read()"
      ],
      "metadata": {
        "id": "1xRAGs9gzOsX"
      },
      "execution_count": null,
      "outputs": []
    },
    {
      "cell_type": "code",
      "source": [
        "#Creating an empty dictionary to store words\n",
        "hw = dict()\n",
        "#Initiation of an empty string\n",
        "s = \"\" \n",
        "#This loop takes each letter in the data and does the following functions on it \n",
        "for j in my_data:\n",
        "  #This code checks if the letter is a continuation of a word or the end of it by checking the presence of a space\n",
        "  if j != \" \":\n",
        "    s = s + j\n",
        "  #If a space is found then a word is formed by adding all the letters since the previous space\n",
        "  #If the word hence formed exists in the dictionary already, then its count is increased by 1 and if it doesnt exist a new key is formed\n",
        "  else:\n",
        "    hw[s] = hw.get(s,0) + 1\n",
        "    #The string containing the word formed by joining the letters is emptied again to store the next word and so on \n",
        "    s = \"\"\n",
        "print(hw)"
      ],
      "metadata": {
        "id": "qR693FZ_0KZL"
      },
      "execution_count": null,
      "outputs": []
    },
    {
      "cell_type": "code",
      "source": [
        "if \"jahfv\" in hw:\n",
        "  print(\"Present\")\n",
        "else:\n",
        "  print(\"Not Present\")\n"
      ],
      "metadata": {
        "id": "NQ2E9kHP0Mt9"
      },
      "execution_count": null,
      "outputs": []
    },
    {
      "cell_type": "code",
      "source": [
        ""
      ],
      "metadata": {
        "id": "HEz2MJGG0MrC"
      },
      "execution_count": null,
      "outputs": []
    },
    {
      "cell_type": "code",
      "source": [
        ""
      ],
      "metadata": {
        "id": "JK9rvBnL0Moy"
      },
      "execution_count": null,
      "outputs": []
    }
  ]
}